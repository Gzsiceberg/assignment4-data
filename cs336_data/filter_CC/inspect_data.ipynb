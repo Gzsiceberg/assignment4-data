{
 "cells": [
  {
   "cell_type": "code",
   "execution_count": 1,
   "id": "6fe8a10d",
   "metadata": {},
   "outputs": [
    {
     "data": {
      "application/vnd.jupyter.widget-view+json": {
       "model_id": "f6813f05341f4474acc5b778cea78839",
       "version_major": 2,
       "version_minor": 0
      },
      "text/plain": [
       "Resolving data files:   0%|          | 0/99 [00:00<?, ?it/s]"
      ]
     },
     "metadata": {},
     "output_type": "display_data"
    },
    {
     "data": {
      "application/vnd.jupyter.widget-view+json": {
       "model_id": "e1a12edb027945a486e60ab6dbeea337",
       "version_major": 2,
       "version_minor": 0
      },
      "text/plain": [
       "Resolving data files:   0%|          | 0/99 [00:00<?, ?it/s]"
      ]
     },
     "metadata": {},
     "output_type": "display_data"
    }
   ],
   "source": [
    "from datasets import load_dataset\n",
    "dataset = load_dataset(\"allenai/paloma\", \"c4_100_domains\")"
   ]
  },
  {
   "cell_type": "code",
   "execution_count": 2,
   "id": "ed2af074",
   "metadata": {},
   "outputs": [
    {
     "name": "stdout",
     "output_type": "stream",
     "text": [
      "Dataset({\n",
      "    features: ['text', 'id', 'added', 'source', 'subdomain', 'metadata'],\n",
      "    num_rows: 14059\n",
      "})\n"
     ]
    }
   ],
   "source": [
    "valid_dataset = dataset[\"val\"]\n",
    "print(valid_dataset)"
   ]
  },
  {
   "cell_type": "code",
   "execution_count": 3,
   "id": "91a9d90f",
   "metadata": {},
   "outputs": [
    {
     "data": {
      "text/markdown": [
       "What Would Happen If The Vote Recount Made Hillary Clinton Win Wisconsin?\n",
       "Wisconsin will soon begin recounting its votes from November's presidential election, at the request of Green Party candidate Jill Stein and another candidate, Roque (\"Rocky\") De La Fuente. Although no evidence of voter fraud or widespread hacking has been made public, the Green Party and some election experts have reason to believe that irregularities in Wisconsin and other states led President-elect Donald Trump to claim victory. A recount could make Hillary Clinton win Wisconsin, but what does that mean for the presidency?\n",
       "According to the original election results, Trump defeated Clinton by a margin of about 20,000 votes in the Badger State. That margin was narrow enough to put Clinton within 1 percentage point of Trump, but it remains to be seen if it's narrow enough to be the result of a simple calculation error or, worse, a small batch of election fraud.\n",
       "Wisconsin's vote recount will likely begin this week, according to the state's elections commission. A board of canvassers will revisit the polling lists, absentee ballots, and regular ballots to either confirm or overturn the results that were calculated at the beginning of November. From the recount, there appear to be three potential outcomes: Trump's victory could be confirmed, Clinton could be awarded the victory, or the results could be delayed until after the federal government's Dec. 13 deadline.\n",
       "With that breakdown, Trump would seemingly remain the president-elect, thanks to his more than 270 electoral votes. In other words, Wisconsin's recount probably won't be enough to sway the entire election in Clinton's favor. However, it could still be an important stepping stone.\n",
       "Stein and the Green Party have announced plans to request recounts in Michigan and Pennsylvania, as well. That's another 26 electoral votes that could be up for grabs. If Trump were to lose his electoral votes from both Wisconsin and Pennsylvania, he would fall below the 270-elector threshold that he needs to claim victory. That's when things could get interesting.\n",
       "Alternatively, Wisconsin's recount could actually win Clinton nothing at all. The original results could be confirmed, or Wisconsin's recount could extend beyond the federal government's Dec. 13 deadline. That's the day that states must be able to certify their vote totals in order to make their Electoral College votes count. If Wisconsin can't meet that deadline, Trump could theoretically lose his 10 votes from that state, but Clinton wouldn't net any of her own, either. If that's the case, then Trump would still remain the president-elect. Ultimately, it would take delayed totals in multiple states to cost Trump enough electoral votes that he loses the president-elect status. Still, Clinton wouldn't reach 270 votes, either, and the decision could go the House of Representatives, per the 12th Amendment.\n",
       "Clearly, there are plenty of opportunities for the presidential election results to still change. If that's going to happen though, it will take more than a recount in Wisconsin — and it would take actual instances of election irregularities, which have not been clearly reported so far. News of recounts in Michigan and Pennsylvania would make things much more interesting — and complicated."
      ],
      "text/plain": [
       "<IPython.core.display.Markdown object>"
      ]
     },
     "metadata": {},
     "output_type": "display_data"
    }
   ],
   "source": [
    "import random\n",
    "from rich import print\n",
    "from IPython.display import display, Markdown\n",
    "random_index = random.randint(0, len(valid_dataset) - 1)\n",
    "data_point = valid_dataset[random_index]\n",
    "text = data_point[\"text\"]\n",
    "# markdown to display text properly in notebook\n",
    "display(Markdown(text))"
   ]
  },
  {
   "cell_type": "code",
   "execution_count": null,
   "id": "0ef84513",
   "metadata": {},
   "outputs": [
    {
     "data": {
      "text/html": [
       "<pre style=\"white-space:pre;overflow-x:auto;line-height:normal;font-family:Menlo,'DejaVu Sans Mono',consolas,'Courier New',monospace\">is_c4: c4, confidence: <span style=\"color: #008080; text-decoration-color: #008080; font-weight: bold\">1.0000015497207642</span>\n",
       "</pre>\n"
      ],
      "text/plain": [
       "is_c4: c4, confidence: \u001b[1;36m1.0000015497207642\u001b[0m\n"
      ]
     },
     "metadata": {},
     "output_type": "display_data"
    }
   ],
   "source": [
    "from cs336_data.filter_CC.filter_by_model import predict_c4_like\n",
    "text = valid_dataset[0][\"text\"]\n",
    "pred_label, confidence = predict_c4_like(text)\n",
    "print(f\"is_c4: {pred_label}, confidence: {confidence}\")"
   ]
  },
  {
   "cell_type": "code",
   "execution_count": 17,
   "id": "d98effb5",
   "metadata": {},
   "outputs": [
    {
     "data": {
      "text/html": [
       "<pre style=\"white-space:pre;overflow-x:auto;line-height:normal;font-family:Menlo,'DejaVu Sans Mono',consolas,'Courier New',monospace\">ROC AUC: <span style=\"color: #008080; text-decoration-color: #008080; font-weight: bold\">0.9944133817257792</span>\n",
       "</pre>\n"
      ],
      "text/plain": [
       "ROC AUC: \u001b[1;36m0.9944133817257792\u001b[0m\n"
      ]
     },
     "metadata": {},
     "output_type": "display_data"
    }
   ],
   "source": [
    "from cs336_data.quality_classifier import roc_auc_score\n",
    "tr_file = \"../../data/filter_CC/qc_fasttext_val.txt\"\n",
    "all_labels = []\n",
    "all_preds = []\n",
    "all_texts = []\n",
    "with open(tr_file, \"r\") as f:\n",
    "    for t, line in enumerate(f):\n",
    "        label, text = line.split(\" \", 1)\n",
    "        pred_label, confidence = predict_c4_like(text)\n",
    "        all_labels.append(int(label == \"__label__positive\"))\n",
    "        if t < 100:\n",
    "            all_texts.append(text)\n",
    "        all_preds.append(confidence if pred_label == \"c4\" else 1 - confidence)\n",
    "auc = roc_auc_score(all_labels, all_preds)\n",
    "print(f\"ROC AUC: {auc}\")"
   ]
  },
  {
   "cell_type": "code",
   "execution_count": 22,
   "id": "36408e2c",
   "metadata": {},
   "outputs": [
    {
     "data": {
      "text/html": [
       "<pre style=\"white-space:pre;overflow-x:auto;line-height:normal;font-family:Menlo,'DejaVu Sans Mono',consolas,'Courier New',monospace\">Director Anthony Hemingway breaks down this exclusive clip from The Purge's premiere.\n",
       "All September long, IGN is spotlighting the best TV coming your way in the <span style=\"color: #008080; text-decoration-color: #008080; font-weight: bold\">2018</span>-<span style=\"color: #008080; text-decoration-color: #008080; font-weight: bold\">2019</span> season. Today we're taking a \n",
       "look at USA Network's TV spinoff of The Purge franchise, premiering September <span style=\"color: #008080; text-decoration-color: #008080; font-weight: bold\">4</span>, which brings the horrors of Purge \n",
       "night to the small screen with a new cast of characters who are hoping to survive the night - or create carnage.\n",
       "With The Purge TV series just one day away - premiering Tuesday, September <span style=\"color: #008080; text-decoration-color: #008080; font-weight: bold\">4</span> on USA <span style=\"font-weight: bold\">(</span>with the pilot also being \n",
       "simulcast on Syfy<span style=\"font-weight: bold\">)</span> - IGN can exclusively reveal a harrowing scene from the first episode, <span style=\"color: #008000; text-decoration-color: #008000\">\"What is America?\"</span>\n",
       "Fiona Dourif plays a crazed cult leader, escorting her flock out into Purge night on a blue-lit bus, where she \n",
       "makes scheduled stops and chooses a<span style=\"color: #808000; text-decoration-color: #808000\">...</span> lucky participant.\n",
       "Does the chosen get to participate in the madness? Oh yes. But maybe not the way you'd think. See, these cultists \n",
       "believe so devoutly in The Purge as a sin cleanser that they offer up themselves as sacrifices to the murderous \n",
       "lunatics out on the streets.\n",
       "Here, Jessica Garza's Penelope witnesses a co-cultist named Arthur get chosen as the first sacrifice of the \n",
       "evening. And what awaits Arthur outside the bus is - oh - something quite special.\n",
       "<span style=\"color: #008000; text-decoration-color: #008000\">\"These cult members come from all walks of life,\"</span> director Anthony Hemingway <span style=\"font-weight: bold\">(</span>Unsolved, Shameless<span style=\"font-weight: bold\">)</span> told us. <span style=\"color: #008000; text-decoration-color: #008000\">\"But </span>\n",
       "<span style=\"color: #008000; text-decoration-color: #008000\">it's also reflective of one's vulnerability to any larger faction or movement. These are people who fail to have </span>\n",
       "<span style=\"color: #008000; text-decoration-color: #008000\">enough self-awareness or strength to see beyond the smoke and mirrors. They're being preyed upon, and it's because </span>\n",
       "<span style=\"color: #008000; text-decoration-color: #008000\">they've experienced loss and they have holes and gaps in their lives. And it's caused them to fall into this </span>\n",
       "<span style=\"color: #008000; text-decoration-color: #008000\">movement blindly and naively. This particular cult prays on that.\"</span>\n",
       "<span style=\"color: #008000; text-decoration-color: #008000\">\"The thing I love about this series is that we get to delve into stories that the films don't have time to touch </span>\n",
       "<span style=\"color: #008000; text-decoration-color: #008000\">on,\"</span> he added. <span style=\"color: #008000; text-decoration-color: #008000\">\"We take things a lot deeper, while also remaining a bit ambiguous when it comes to political views </span>\n",
       "<span style=\"color: #008000; text-decoration-color: #008000\">or religious views or any of those factions. Though this particular storyline will somewhat shine a light on that </span>\n",
       "<span style=\"color: #008000; text-decoration-color: #008000\">area.\"</span>\n",
       "One of the most striking elements about this scene, aside from the axe-wielding ponytailed Purgers outside, is the \n",
       "vibrant blinding blue that's used inside the bus. <span style=\"color: #008000; text-decoration-color: #008000\">\"The 'Purge Blue' is what we call it,\"</span> Hemingway said. <span style=\"color: #008000; text-decoration-color: #008000\">\"It the </span>\n",
       "<span style=\"color: #008000; text-decoration-color: #008000\">color, when designing the show, that became the palette. When we were deciding on the look and feel for this, we </span>\n",
       "<span style=\"color: #008000; text-decoration-color: #008000\">looked at the themes and the characters' stories in the films and blue stood out. It really identified that world. </span>\n",
       "<span style=\"color: #008000; text-decoration-color: #008000\">It's what invited you in and it possessed a comfort. A safe feeling. It's also clearly offbeat in a way.\"</span>\n",
       "Based on the hit movie franchise from Blumhouse Productions, The Purge revolves around a <span style=\"color: #008080; text-decoration-color: #008080; font-weight: bold\">12</span>-hour period when all \n",
       "crime, including murder, is legal. Set in an altered America ruled by a totalitarian political party, the series \n",
       "follows several seemingly unrelated characters living in a small city. As the clock winds down, each character is \n",
       "forced to reckon with their past as they discover how far they will go to survive the night. The Purge is written \n",
       "and executive produced by the film franchise creator James DeMonaco and led by Jason Blum.\n",
       "Hemingway wanted to make it clear that fans of the movie franchise won't be disappointed by the series, and that he\n",
       "and the other creators took pains to make sure the show honored the movies. <span style=\"color: #008000; text-decoration-color: #008000\">\"Fans aren't going to feel like they're</span>\n",
       "<span style=\"color: #008000; text-decoration-color: #008000\">watching something totally different,\"</span> he said. <span style=\"color: #008000; text-decoration-color: #008000\">\"It's a cautionary tale. It's what happens if we don't pay </span>\n",
       "<span style=\"color: #008000; text-decoration-color: #008000\">attention to our own reality and social climate and figure out how to be an active part in the decision-making </span>\n",
       "<span style=\"color: #008000; text-decoration-color: #008000\">process. This series has the ability to really get into social disparity and understanding what that visceral </span>\n",
       "<span style=\"color: #008000; text-decoration-color: #008000\">tension and release could be. I think anyone can relate to it.\"</span>\n",
       "The Purge series premieres on USA on September <span style=\"color: #008080; text-decoration-color: #008080; font-weight: bold\">4</span> at <span style=\"color: #008080; text-decoration-color: #008080; font-weight: bold\">10</span> p.m. ET/PT. If you need a refresher on the franchise, check \n",
       "out our guide to The Purge universe.\n",
       "Ugh, youths. It's a well-known truth that teenagers are the worst, but imagine these rich, spoiled-rotten \n",
       "sociopaths on Purge night. Young Kimmy and Laney were so put out after being told they couldn't shoplift that they \n",
       "returned to the deli during the Purge, with a few friends, to exact ruthless revenge. At least Kimmy had the \n",
       "decency to murder her own parents before heading out in to the night to cause more carnage.\n",
       "</pre>\n"
      ],
      "text/plain": [
       "Director Anthony Hemingway breaks down this exclusive clip from The Purge's premiere.\n",
       "All September long, IGN is spotlighting the best TV coming your way in the \u001b[1;36m2018\u001b[0m-\u001b[1;36m2019\u001b[0m season. Today we're taking a \n",
       "look at USA Network's TV spinoff of The Purge franchise, premiering September \u001b[1;36m4\u001b[0m, which brings the horrors of Purge \n",
       "night to the small screen with a new cast of characters who are hoping to survive the night - or create carnage.\n",
       "With The Purge TV series just one day away - premiering Tuesday, September \u001b[1;36m4\u001b[0m on USA \u001b[1m(\u001b[0mwith the pilot also being \n",
       "simulcast on Syfy\u001b[1m)\u001b[0m - IGN can exclusively reveal a harrowing scene from the first episode, \u001b[32m\"What is America?\"\u001b[0m\n",
       "Fiona Dourif plays a crazed cult leader, escorting her flock out into Purge night on a blue-lit bus, where she \n",
       "makes scheduled stops and chooses a\u001b[33m...\u001b[0m lucky participant.\n",
       "Does the chosen get to participate in the madness? Oh yes. But maybe not the way you'd think. See, these cultists \n",
       "believe so devoutly in The Purge as a sin cleanser that they offer up themselves as sacrifices to the murderous \n",
       "lunatics out on the streets.\n",
       "Here, Jessica Garza's Penelope witnesses a co-cultist named Arthur get chosen as the first sacrifice of the \n",
       "evening. And what awaits Arthur outside the bus is - oh - something quite special.\n",
       "\u001b[32m\"These cult members come from all walks of life,\"\u001b[0m director Anthony Hemingway \u001b[1m(\u001b[0mUnsolved, Shameless\u001b[1m)\u001b[0m told us. \u001b[32m\"But \u001b[0m\n",
       "\u001b[32mit's also reflective of one's vulnerability to any larger faction or movement. These are people who fail to have \u001b[0m\n",
       "\u001b[32menough self-awareness or strength to see beyond the smoke and mirrors. They're being preyed upon, and it's because \u001b[0m\n",
       "\u001b[32mthey've experienced loss and they have holes and gaps in their lives. And it's caused them to fall into this \u001b[0m\n",
       "\u001b[32mmovement blindly and naively. This particular cult prays on that.\"\u001b[0m\n",
       "\u001b[32m\"The thing I love about this series is that we get to delve into stories that the films don't have time to touch \u001b[0m\n",
       "\u001b[32mon,\"\u001b[0m he added. \u001b[32m\"We take things a lot deeper, while also remaining a bit ambiguous when it comes to political views \u001b[0m\n",
       "\u001b[32mor religious views or any of those factions. Though this particular storyline will somewhat shine a light on that \u001b[0m\n",
       "\u001b[32marea.\"\u001b[0m\n",
       "One of the most striking elements about this scene, aside from the axe-wielding ponytailed Purgers outside, is the \n",
       "vibrant blinding blue that's used inside the bus. \u001b[32m\"The 'Purge Blue' is what we call it,\"\u001b[0m Hemingway said. \u001b[32m\"It the \u001b[0m\n",
       "\u001b[32mcolor, when designing the show, that became the palette. When we were deciding on the look and feel for this, we \u001b[0m\n",
       "\u001b[32mlooked at the themes and the characters' stories in the films and blue stood out. It really identified that world. \u001b[0m\n",
       "\u001b[32mIt's what invited you in and it possessed a comfort. A safe feeling. It's also clearly offbeat in a way.\"\u001b[0m\n",
       "Based on the hit movie franchise from Blumhouse Productions, The Purge revolves around a \u001b[1;36m12\u001b[0m-hour period when all \n",
       "crime, including murder, is legal. Set in an altered America ruled by a totalitarian political party, the series \n",
       "follows several seemingly unrelated characters living in a small city. As the clock winds down, each character is \n",
       "forced to reckon with their past as they discover how far they will go to survive the night. The Purge is written \n",
       "and executive produced by the film franchise creator James DeMonaco and led by Jason Blum.\n",
       "Hemingway wanted to make it clear that fans of the movie franchise won't be disappointed by the series, and that he\n",
       "and the other creators took pains to make sure the show honored the movies. \u001b[32m\"Fans aren't going to feel like they're\u001b[0m\n",
       "\u001b[32mwatching something totally different,\"\u001b[0m he said. \u001b[32m\"It's a cautionary tale. It's what happens if we don't pay \u001b[0m\n",
       "\u001b[32mattention to our own reality and social climate and figure out how to be an active part in the decision-making \u001b[0m\n",
       "\u001b[32mprocess. This series has the ability to really get into social disparity and understanding what that visceral \u001b[0m\n",
       "\u001b[32mtension and release could be. I think anyone can relate to it.\"\u001b[0m\n",
       "The Purge series premieres on USA on September \u001b[1;36m4\u001b[0m at \u001b[1;36m10\u001b[0m p.m. ET/PT. If you need a refresher on the franchise, check \n",
       "out our guide to The Purge universe.\n",
       "Ugh, youths. It's a well-known truth that teenagers are the worst, but imagine these rich, spoiled-rotten \n",
       "sociopaths on Purge night. Young Kimmy and Laney were so put out after being told they couldn't shoplift that they \n",
       "returned to the deli during the Purge, with a few friends, to exact ruthless revenge. At least Kimmy had the \n",
       "decency to murder her own parents before heading out in to the night to cause more carnage.\n"
      ]
     },
     "metadata": {},
     "output_type": "display_data"
    },
    {
     "data": {
      "text/html": [
       "<pre style=\"white-space:pre;overflow-x:auto;line-height:normal;font-family:Menlo,'DejaVu Sans Mono',consolas,'Courier New',monospace\">is_c4: c4, confidence: <span style=\"color: #008080; text-decoration-color: #008080; font-weight: bold\">0.9988055229187012</span>\n",
       "</pre>\n"
      ],
      "text/plain": [
       "is_c4: c4, confidence: \u001b[1;36m0.9988055229187012\u001b[0m\n"
      ]
     },
     "metadata": {},
     "output_type": "display_data"
    }
   ],
   "source": [
    "text = text = valid_dataset[100][\"text\"]\n",
    "print(text)\n",
    "pred_label, confidence = predict_c4_like(text)\n",
    "print(f\"is_c4: {pred_label}, confidence: {confidence}\")"
   ]
  }
 ],
 "metadata": {
  "kernelspec": {
   "display_name": "cs336-data",
   "language": "python",
   "name": "python3"
  },
  "language_info": {
   "codemirror_mode": {
    "name": "ipython",
    "version": 3
   },
   "file_extension": ".py",
   "mimetype": "text/x-python",
   "name": "python",
   "nbconvert_exporter": "python",
   "pygments_lexer": "ipython3",
   "version": "3.13.7"
  }
 },
 "nbformat": 4,
 "nbformat_minor": 5
}
