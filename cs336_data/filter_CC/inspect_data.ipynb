{
 "cells": [
  {
   "cell_type": "code",
   "execution_count": 2,
   "id": "6fe8a10d",
   "metadata": {},
   "outputs": [],
   "source": [
    "from datasets import load_dataset\n",
    "dataset = load_dataset(\"allenai/paloma\", \"c4_100_domains\")"
   ]
  },
  {
   "cell_type": "code",
   "execution_count": 3,
   "id": "ed2af074",
   "metadata": {},
   "outputs": [
    {
     "name": "stdout",
     "output_type": "stream",
     "text": [
      "Dataset({\n",
      "    features: ['text', 'id', 'added', 'source', 'subdomain', 'metadata'],\n",
      "    num_rows: 14059\n",
      "})\n"
     ]
    }
   ],
   "source": [
    "valid_dataset = dataset[\"val\"]\n",
    "print(valid_dataset)"
   ]
  },
  {
   "cell_type": "code",
   "execution_count": 4,
   "id": "91a9d90f",
   "metadata": {},
   "outputs": [
    {
     "data": {
      "text/markdown": [
       "TOM Barber threatened to hit the roof after being branded “extra small” in the Big Brother house.\n",
       "The 21-year-old Welshman was provoked after he sat too close to Lotan Carter and Hannah Agboola who were having an already heated discussion.\n",
       "Hannah was trying to reason with Lotan as Tom listened in – which then drew the attention of Hannah.\n",
       "“I don’t mind you listening to the conversation, but it’s a personal conversation,” Hannah warned.\n",
       "“If you want to be nosy, you’re more than welcome to be nosy,” she continued.\n",
       "As Tom sat casually sipping a beer, Hannah appeared to touch a nerve.\n",
       "“Whatever, ‘extra small’,” she said as she walked away.\n",
       "“Continue,” she added as she disappeared from the garden.\n",
       "At first Tom seemed unnerved, saying: “Ok,” and sipping again on his beer.\n",
       "But he then started to unleash.\n",
       "“If someone is calling me ‘extra small’ mate it’s offensive,” he said, kicking off in front of other housemates including Lotan, Joe and Rebecca.\n",
       "“If they don’t nip that in the bud now, watch me f**king ruin this joint,” he added, gesturing across the Big Brother garden.\n",
       "He then stormed off to the diary room to complain about Hannah.\n",
       "“Calling me 'extra small' is offensive,” he raged.\n",
       "“She's trying to wind me up,” he added.\n",
       "This week Hannah faces eviction after being nominated by the housemates alongside Joe, Chanelle and Rebecca.\n",
       "The live eviction will take place on Thursday – while three new potential housemates have entered the reality show house to compete for two permanent positions."
      ],
      "text/plain": [
       "<IPython.core.display.Markdown object>"
      ]
     },
     "metadata": {},
     "output_type": "display_data"
    }
   ],
   "source": [
    "import random\n",
    "from rich import print\n",
    "from IPython.display import display, Markdown\n",
    "random_index = random.randint(0, len(valid_dataset) - 1)\n",
    "data_point = valid_dataset[random_index]\n",
    "text = data_point[\"text\"]\n",
    "# markdown to display text properly in notebook\n",
    "display(Markdown(text))"
   ]
  },
  {
   "cell_type": "code",
   "execution_count": 6,
   "id": "0ef84513",
   "metadata": {},
   "outputs": [
    {
     "name": "stderr",
     "output_type": "stream",
     "text": [
      "Map: 100%|██████████| 14059/14059 [00:01<00:00, 7934.40 examples/s]\n"
     ]
    },
    {
     "data": {
      "text/html": [
       "<pre style=\"white-space:pre;overflow-x:auto;line-height:normal;font-family:Menlo,'DejaVu Sans Mono',consolas,'Courier New',monospace\"><span style=\"color: #800080; text-decoration-color: #800080; font-weight: bold\">Dataset</span><span style=\"font-weight: bold\">({</span>\n",
       "    features: <span style=\"font-weight: bold\">[</span><span style=\"color: #008000; text-decoration-color: #008000\">'text'</span>, <span style=\"color: #008000; text-decoration-color: #008000\">'id'</span>, <span style=\"color: #008000; text-decoration-color: #008000\">'added'</span>, <span style=\"color: #008000; text-decoration-color: #008000\">'source'</span>, <span style=\"color: #008000; text-decoration-color: #008000\">'subdomain'</span>, <span style=\"color: #008000; text-decoration-color: #008000\">'metadata'</span>, <span style=\"color: #008000; text-decoration-color: #008000\">'detected_lang'</span>, <span style=\"color: #008000; text-decoration-color: #008000\">'detection_confidence'</span><span style=\"font-weight: bold\">]</span>,\n",
       "    num_rows: <span style=\"color: #008080; text-decoration-color: #008080; font-weight: bold\">14059</span>\n",
       "<span style=\"font-weight: bold\">})</span>\n",
       "</pre>\n"
      ],
      "text/plain": [
       "\u001b[1;35mDataset\u001b[0m\u001b[1m(\u001b[0m\u001b[1m{\u001b[0m\n",
       "    features: \u001b[1m[\u001b[0m\u001b[32m'text'\u001b[0m, \u001b[32m'id'\u001b[0m, \u001b[32m'added'\u001b[0m, \u001b[32m'source'\u001b[0m, \u001b[32m'subdomain'\u001b[0m, \u001b[32m'metadata'\u001b[0m, \u001b[32m'detected_lang'\u001b[0m, \u001b[32m'detection_confidence'\u001b[0m\u001b[1m]\u001b[0m,\n",
       "    num_rows: \u001b[1;36m14059\u001b[0m\n",
       "\u001b[1m}\u001b[0m\u001b[1m)\u001b[0m\n"
      ]
     },
     "metadata": {},
     "output_type": "display_data"
    }
   ],
   "source": [
    "def detect_lang(data):\n",
    "    from cs336_data.language_identification import detect_language\n",
    "    text = data[\"text\"]\n",
    "    lang, confidence = detect_language(text)\n",
    "    return {\n",
    "        \"detected_lang\": lang,\n",
    "        \"detection_confidence\": confidence\n",
    "    }\n",
    "valid_dataset = valid_dataset.map(detect_lang)\n",
    "print(valid_dataset)"
   ]
  },
  {
   "cell_type": "code",
   "execution_count": 10,
   "id": "d98effb5",
   "metadata": {},
   "outputs": [
    {
     "data": {
      "text/html": [
       "<pre style=\"white-space:pre;overflow-x:auto;line-height:normal;font-family:Menlo,'DejaVu Sans Mono',consolas,'Courier New',monospace\"><span style=\"color: #800000; text-decoration-color: #800000\">Filtered out </span><span style=\"color: #800000; text-decoration-color: #800000; font-weight: bold\">(</span><span style=\"color: #800000; text-decoration-color: #800000\">gd, </span><span style=\"color: #800000; text-decoration-color: #800000; font-weight: bold\">0.62</span><span style=\"color: #800000; text-decoration-color: #800000; font-weight: bold\">)</span>\n",
       "</pre>\n"
      ],
      "text/plain": [
       "\u001b[31mFiltered out \u001b[0m\u001b[1;31m(\u001b[0m\u001b[31mgd, \u001b[0m\u001b[1;31m0.62\u001b[0m\u001b[1;31m)\u001b[0m\n"
      ]
     },
     "metadata": {},
     "output_type": "display_data"
    },
    {
     "data": {
      "text/html": [
       "<pre style=\"white-space:pre;overflow-x:auto;line-height:normal;font-family:Menlo,'DejaVu Sans Mono',consolas,'Courier New',monospace\">Image caption Tha a' Chomhairle ag ràdh gur dòcha gum biodh subsadaidh nas motha mì-laghail.\n",
       "Tha a h-uile coltas ann gun stad seirbheisean-adhair eadar an t-Òban, Colla, Tiriodh, Colbhasa agus Ìle aig\n",
       "</pre>\n"
      ],
      "text/plain": [
       "Image caption Tha a' Chomhairle ag ràdh gur dòcha gum biodh subsadaidh nas motha mì-laghail.\n",
       "Tha a h-uile coltas ann gun stad seirbheisean-adhair eadar an t-Òban, Colla, Tiriodh, Colbhasa agus Ìle aig\n"
      ]
     },
     "metadata": {},
     "output_type": "display_data"
    },
    {
     "data": {
      "text/html": [
       "<pre style=\"white-space:pre;overflow-x:auto;line-height:normal;font-family:Menlo,'DejaVu Sans Mono',consolas,'Courier New',monospace\"><span style=\"color: #800000; text-decoration-color: #800000\">Filtered out </span><span style=\"color: #800000; text-decoration-color: #800000; font-weight: bold\">(</span><span style=\"color: #800000; text-decoration-color: #800000\">gd, </span><span style=\"color: #800000; text-decoration-color: #800000; font-weight: bold\">0.66</span><span style=\"color: #800000; text-decoration-color: #800000; font-weight: bold\">)</span>\n",
       "</pre>\n"
      ],
      "text/plain": [
       "\u001b[31mFiltered out \u001b[0m\u001b[1;31m(\u001b[0m\u001b[31mgd, \u001b[0m\u001b[1;31m0.66\u001b[0m\u001b[1;31m)\u001b[0m\n"
      ]
     },
     "metadata": {},
     "output_type": "display_data"
    },
    {
     "data": {
      "text/html": [
       "<pre style=\"white-space:pre;overflow-x:auto;line-height:normal;font-family:Menlo,'DejaVu Sans Mono',consolas,'Courier New',monospace\">Thàinig fàs <span style=\"color: #008080; text-decoration-color: #008080; font-weight: bold\">0.8</span>% air eaconamaidh na Rìoghachd Aonaichte air a' chiad thrì mìosan den bhliadhna seo, <span style=\"color: #008000; text-decoration-color: #008000\">'s tha sin suas</span>\n",
       "<span style=\"color: #008000; text-decoration-color: #008000\">bho 0.7% air na trì mìosan mu dheireadh an-uiridh. Tha figearan an là an-diugh a'</span> ci\n",
       "</pre>\n"
      ],
      "text/plain": [
       "Thàinig fàs \u001b[1;36m0.8\u001b[0m% air eaconamaidh na Rìoghachd Aonaichte air a' chiad thrì mìosan den bhliadhna seo, \u001b[32m's tha sin suas\u001b[0m\n",
       "\u001b[32mbho 0.7% air na trì mìosan mu dheireadh an-uiridh. Tha figearan an là an-diugh a'\u001b[0m ci\n"
      ]
     },
     "metadata": {},
     "output_type": "display_data"
    },
    {
     "data": {
      "text/html": [
       "<pre style=\"white-space:pre;overflow-x:auto;line-height:normal;font-family:Menlo,'DejaVu Sans Mono',consolas,'Courier New',monospace\"><span style=\"color: #800000; text-decoration-color: #800000\">Filtered out </span><span style=\"color: #800000; text-decoration-color: #800000; font-weight: bold\">(</span><span style=\"color: #800000; text-decoration-color: #800000\">gd, </span><span style=\"color: #800000; text-decoration-color: #800000; font-weight: bold\">0.61</span><span style=\"color: #800000; text-decoration-color: #800000; font-weight: bold\">)</span>\n",
       "</pre>\n"
      ],
      "text/plain": [
       "\u001b[31mFiltered out \u001b[0m\u001b[1;31m(\u001b[0m\u001b[31mgd, \u001b[0m\u001b[1;31m0.61\u001b[0m\u001b[1;31m)\u001b[0m\n"
      ]
     },
     "metadata": {},
     "output_type": "display_data"
    },
    {
     "data": {
      "text/html": [
       "<pre style=\"white-space:pre;overflow-x:auto;line-height:normal;font-family:Menlo,'DejaVu Sans Mono',consolas,'Courier New',monospace\">Thuirt MG ALBA gun cuir iad dìon air prògraman air BBC Alba, a dh'aindeoin <span style=\"color: #008000; text-decoration-color: #008000\">'s gu bheil iad air taic-airgid a bha a'</span>\n",
       "tighinn bho Riaghaltas Westminster a chall.\n",
       "Thuirt Stiùiriche Leasaiche MG ALBA, Ise\n",
       "</pre>\n"
      ],
      "text/plain": [
       "Thuirt MG ALBA gun cuir iad dìon air prògraman air BBC Alba, a dh'aindeoin \u001b[32m's gu bheil iad air taic-airgid a bha a'\u001b[0m\n",
       "tighinn bho Riaghaltas Westminster a chall.\n",
       "Thuirt Stiùiriche Leasaiche MG ALBA, Ise\n"
      ]
     },
     "metadata": {},
     "output_type": "display_data"
    },
    {
     "data": {
      "text/html": [
       "<pre style=\"white-space:pre;overflow-x:auto;line-height:normal;font-family:Menlo,'DejaVu Sans Mono',consolas,'Courier New',monospace\"><span style=\"color: #800000; text-decoration-color: #800000\">Filtered out </span><span style=\"color: #800000; text-decoration-color: #800000; font-weight: bold\">(</span><span style=\"color: #800000; text-decoration-color: #800000\">zh, </span><span style=\"color: #800000; text-decoration-color: #800000; font-weight: bold\">0.56</span><span style=\"color: #800000; text-decoration-color: #800000; font-weight: bold\">)</span>\n",
       "</pre>\n"
      ],
      "text/plain": [
       "\u001b[31mFiltered out \u001b[0m\u001b[1;31m(\u001b[0m\u001b[31mzh, \u001b[0m\u001b[1;31m0.56\u001b[0m\u001b[1;31m)\u001b[0m\n"
      ]
     },
     "metadata": {},
     "output_type": "display_data"
    },
    {
     "data": {
      "text/html": [
       "<pre style=\"white-space:pre;overflow-x:auto;line-height:normal;font-family:Menlo,'DejaVu Sans Mono',consolas,'Courier New',monospace\">【Dragon Show】謝龍介大突破！李小龍功夫裝竟穿反 激凸照曝光 - Duration: <span style=\"color: #008080; text-decoration-color: #008080; font-weight: bold\">4</span> minutes, <span style=\"color: #008080; text-decoration-color: #008080; font-weight: bold\">49</span> seconds.\n",
       "【Dragon Show】一生只愛佳芬一個　此生只為妳一人 - Duration: <span style=\"color: #008080; text-decoration-color: #008080; font-weight: bold\">4</span> minutes, <span style=\"color: #008080; text-decoration-color: #008080; font-weight: bold\">55</span> seconds.\n",
       "【Dragon Show】問「世堅」情為何物！秘雕毀容大節女不離不棄！ - Duration: <span style=\"color: #008080; text-decoration-color: #008080; font-weight: bold\">4</span> minutes, <span style=\"color: #008080; text-decoration-color: #008080; font-weight: bold\">18</span> se\n",
       "</pre>\n"
      ],
      "text/plain": [
       "【Dragon Show】謝龍介大突破！李小龍功夫裝竟穿反 激凸照曝光 - Duration: \u001b[1;36m4\u001b[0m minutes, \u001b[1;36m49\u001b[0m seconds.\n",
       "【Dragon Show】一生只愛佳芬一個　此生只為妳一人 - Duration: \u001b[1;36m4\u001b[0m minutes, \u001b[1;36m55\u001b[0m seconds.\n",
       "【Dragon Show】問「世堅」情為何物！秘雕毀容大節女不離不棄！ - Duration: \u001b[1;36m4\u001b[0m minutes, \u001b[1;36m18\u001b[0m se\n"
      ]
     },
     "metadata": {},
     "output_type": "display_data"
    },
    {
     "data": {
      "text/html": [
       "<pre style=\"white-space:pre;overflow-x:auto;line-height:normal;font-family:Menlo,'DejaVu Sans Mono',consolas,'Courier New',monospace\"><span style=\"color: #800000; text-decoration-color: #800000\">Filtered out </span><span style=\"color: #800000; text-decoration-color: #800000; font-weight: bold\">(</span><span style=\"color: #800000; text-decoration-color: #800000\">gd, </span><span style=\"color: #800000; text-decoration-color: #800000; font-weight: bold\">0.58</span><span style=\"color: #800000; text-decoration-color: #800000; font-weight: bold\">)</span>\n",
       "</pre>\n"
      ],
      "text/plain": [
       "\u001b[31mFiltered out \u001b[0m\u001b[1;31m(\u001b[0m\u001b[31mgd, \u001b[0m\u001b[1;31m0.58\u001b[0m\u001b[1;31m)\u001b[0m\n"
      ]
     },
     "metadata": {},
     "output_type": "display_data"
    },
    {
     "data": {
      "text/html": [
       "<pre style=\"white-space:pre;overflow-x:auto;line-height:normal;font-family:Menlo,'DejaVu Sans Mono',consolas,'Courier New',monospace\">Chaochail an tè mu dheireadh de mhuinntir Eilean nan Ròn, ann an Dùthaich MhicAoidh, aig aois <span style=\"color: #008080; text-decoration-color: #008080; font-weight: bold\">100</span>.\n",
       "B' e teaghlach Kitty Ann NicCuithein <span style=\"font-weight: bold\">(</span>NicAoidh mar a bh' oirre an uair sin<span style=\"font-weight: bold\">)</span> an teaghlach mu dheireadh\n",
       "</pre>\n"
      ],
      "text/plain": [
       "Chaochail an tè mu dheireadh de mhuinntir Eilean nan Ròn, ann an Dùthaich MhicAoidh, aig aois \u001b[1;36m100\u001b[0m.\n",
       "B' e teaghlach Kitty Ann NicCuithein \u001b[1m(\u001b[0mNicAoidh mar a bh' oirre an uair sin\u001b[1m)\u001b[0m an teaghlach mu dheireadh\n"
      ]
     },
     "metadata": {},
     "output_type": "display_data"
    },
    {
     "data": {
      "text/html": [
       "<pre style=\"white-space:pre;overflow-x:auto;line-height:normal;font-family:Menlo,'DejaVu Sans Mono',consolas,'Courier New',monospace\"><span style=\"color: #800000; text-decoration-color: #800000\">Filtered out </span><span style=\"color: #800000; text-decoration-color: #800000; font-weight: bold\">(</span><span style=\"color: #800000; text-decoration-color: #800000\">ko, </span><span style=\"color: #800000; text-decoration-color: #800000; font-weight: bold\">0.94</span><span style=\"color: #800000; text-decoration-color: #800000; font-weight: bold\">)</span>\n",
       "</pre>\n"
      ],
      "text/plain": [
       "\u001b[31mFiltered out \u001b[0m\u001b[1;31m(\u001b[0m\u001b[31mko, \u001b[0m\u001b[1;31m0.94\u001b[0m\u001b[1;31m)\u001b[0m\n"
      ]
     },
     "metadata": {},
     "output_type": "display_data"
    },
    {
     "data": {
      "text/html": [
       "<pre style=\"white-space:pre;overflow-x:auto;line-height:normal;font-family:Menlo,'DejaVu Sans Mono',consolas,'Courier New',monospace\">Url의 검색 문서에서 프록시 클래스에 정의된 바인딩을 찾을 수 없습니다.The binding defined in the proxy class could \n",
       "not be found in the discovery document at Url.\n",
       "또는-or- 프록시 클래스에 정의된 바인딩이 없습니다.The proxy class does not have a bindi\n",
       "</pre>\n"
      ],
      "text/plain": [
       "Url의 검색 문서에서 프록시 클래스에 정의된 바인딩을 찾을 수 없습니다.The binding defined in the proxy class could \n",
       "not be found in the discovery document at Url.\n",
       "또는-or- 프록시 클래스에 정의된 바인딩이 없습니다.The proxy class does not have a bindi\n"
      ]
     },
     "metadata": {},
     "output_type": "display_data"
    },
    {
     "data": {
      "text/html": [
       "<pre style=\"white-space:pre;overflow-x:auto;line-height:normal;font-family:Menlo,'DejaVu Sans Mono',consolas,'Courier New',monospace\"><span style=\"color: #800000; text-decoration-color: #800000\">Filtered out </span><span style=\"color: #800000; text-decoration-color: #800000; font-weight: bold\">(</span><span style=\"color: #800000; text-decoration-color: #800000\">ja, </span><span style=\"color: #800000; text-decoration-color: #800000; font-weight: bold\">0.87</span><span style=\"color: #800000; text-decoration-color: #800000; font-weight: bold\">)</span>\n",
       "</pre>\n"
      ],
      "text/plain": [
       "\u001b[31mFiltered out \u001b[0m\u001b[1;31m(\u001b[0m\u001b[31mja, \u001b[0m\u001b[1;31m0.87\u001b[0m\u001b[1;31m)\u001b[0m\n"
      ]
     },
     "metadata": {},
     "output_type": "display_data"
    },
    {
     "data": {
      "text/html": [
       "<pre style=\"white-space:pre;overflow-x:auto;line-height:normal;font-family:Menlo,'DejaVu Sans Mono',consolas,'Courier New',monospace\">SQL Server 2005SQL Server <span style=\"color: #008080; text-decoration-color: #008080; font-weight: bold\">2005</span> 以降の SQL ServerSQL Server には、.NET Framework for MicrosoftMicrosoft Windows の \n",
       "CLR <span style=\"font-weight: bold\">(</span>共通言語ランタイム<span style=\"font-weight: bold\">)</span> コンポーネントが統合されました。Beginning with SQL Server 2005SQL Server <span style=\"color: #008080; text-decoration-color: #008080; font-weight: bold\">2005</span>, SQL \n",
       "ServerSQL \n",
       "</pre>\n"
      ],
      "text/plain": [
       "SQL Server 2005SQL Server \u001b[1;36m2005\u001b[0m 以降の SQL ServerSQL Server には、.NET Framework for MicrosoftMicrosoft Windows の \n",
       "CLR \u001b[1m(\u001b[0m共通言語ランタイム\u001b[1m)\u001b[0m コンポーネントが統合されました。Beginning with SQL Server 2005SQL Server \u001b[1;36m2005\u001b[0m, SQL \n",
       "ServerSQL \n"
      ]
     },
     "metadata": {},
     "output_type": "display_data"
    },
    {
     "data": {
      "text/html": [
       "<pre style=\"white-space:pre;overflow-x:auto;line-height:normal;font-family:Menlo,'DejaVu Sans Mono',consolas,'Courier New',monospace\"><span style=\"color: #800000; text-decoration-color: #800000\">Filtered out </span><span style=\"color: #800000; text-decoration-color: #800000; font-weight: bold\">(</span><span style=\"color: #800000; text-decoration-color: #800000\">fr, </span><span style=\"color: #800000; text-decoration-color: #800000; font-weight: bold\">0.71</span><span style=\"color: #800000; text-decoration-color: #800000; font-weight: bold\">)</span>\n",
       "</pre>\n"
      ],
      "text/plain": [
       "\u001b[31mFiltered out \u001b[0m\u001b[1;31m(\u001b[0m\u001b[31mfr, \u001b[0m\u001b[1;31m0.71\u001b[0m\u001b[1;31m)\u001b[0m\n"
      ]
     },
     "metadata": {},
     "output_type": "display_data"
    },
    {
     "data": {
      "text/html": [
       "<pre style=\"white-space:pre;overflow-x:auto;line-height:normal;font-family:Menlo,'DejaVu Sans Mono',consolas,'Courier New',monospace\">Free Video Game 3D Online. Adventure - Arcade.\n",
       "Zoby Z is a 3D game in three episodes, online and free. The first episode is already available at zobyz.com.\n",
       "Zoby Z is a research and development project\n",
       "</pre>\n"
      ],
      "text/plain": [
       "Free Video Game 3D Online. Adventure - Arcade.\n",
       "Zoby Z is a 3D game in three episodes, online and free. The first episode is already available at zobyz.com.\n",
       "Zoby Z is a research and development project\n"
      ]
     },
     "metadata": {},
     "output_type": "display_data"
    },
    {
     "data": {
      "text/html": [
       "<pre style=\"white-space:pre;overflow-x:auto;line-height:normal;font-family:Menlo,'DejaVu Sans Mono',consolas,'Courier New',monospace\"><span style=\"color: #800000; text-decoration-color: #800000\">Filtered out </span><span style=\"color: #800000; text-decoration-color: #800000; font-weight: bold\">(</span><span style=\"color: #800000; text-decoration-color: #800000\">de, </span><span style=\"color: #800000; text-decoration-color: #800000; font-weight: bold\">0.81</span><span style=\"color: #800000; text-decoration-color: #800000; font-weight: bold\">)</span>\n",
       "</pre>\n"
      ],
      "text/plain": [
       "\u001b[31mFiltered out \u001b[0m\u001b[1;31m(\u001b[0m\u001b[31mde, \u001b[0m\u001b[1;31m0.81\u001b[0m\u001b[1;31m)\u001b[0m\n"
      ]
     },
     "metadata": {},
     "output_type": "display_data"
    },
    {
     "data": {
      "text/html": [
       "<pre style=\"white-space:pre;overflow-x:auto;line-height:normal;font-family:Menlo,'DejaVu Sans Mono',consolas,'Courier New',monospace\">A regeneration test removes reversible functionality losses. Functionality is then tested and assessed. Preferred \n",
       "Features: Functionality is first tested. Regeneration testing is only carried out shou\n",
       "</pre>\n"
      ],
      "text/plain": [
       "A regeneration test removes reversible functionality losses. Functionality is then tested and assessed. Preferred \n",
       "Features: Functionality is first tested. Regeneration testing is only carried out shou\n"
      ]
     },
     "metadata": {},
     "output_type": "display_data"
    },
    {
     "data": {
      "text/html": [
       "<pre style=\"white-space:pre;overflow-x:auto;line-height:normal;font-family:Menlo,'DejaVu Sans Mono',consolas,'Courier New',monospace\"><span style=\"color: #800000; text-decoration-color: #800000\">Filtered out </span><span style=\"color: #800000; text-decoration-color: #800000; font-weight: bold\">(</span><span style=\"color: #800000; text-decoration-color: #800000\">ca, </span><span style=\"color: #800000; text-decoration-color: #800000; font-weight: bold\">0.34</span><span style=\"color: #800000; text-decoration-color: #800000; font-weight: bold\">)</span>\n",
       "</pre>\n"
      ],
      "text/plain": [
       "\u001b[31mFiltered out \u001b[0m\u001b[1;31m(\u001b[0m\u001b[31mca, \u001b[0m\u001b[1;31m0.34\u001b[0m\u001b[1;31m)\u001b[0m\n"
      ]
     },
     "metadata": {},
     "output_type": "display_data"
    },
    {
     "data": {
      "text/html": [
       "<pre style=\"white-space:pre;overflow-x:auto;line-height:normal;font-family:Menlo,'DejaVu Sans Mono',consolas,'Courier New',monospace\">Donna Leon has <span style=\"color: #008080; text-decoration-color: #008080; font-weight: bold\">1</span> media appearance.\n",
       "Pregó de la Lectura de Sant Jordi. Enguany, anirà a càrrec de l'escriptora Donna Leon que conversarà amb el \n",
       "periodista Óscar López sobre els valors de la lectura i s\n",
       "</pre>\n"
      ],
      "text/plain": [
       "Donna Leon has \u001b[1;36m1\u001b[0m media appearance.\n",
       "Pregó de la Lectura de Sant Jordi. Enguany, anirà a càrrec de l'escriptora Donna Leon que conversarà amb el \n",
       "periodista Óscar López sobre els valors de la lectura i s\n"
      ]
     },
     "metadata": {},
     "output_type": "display_data"
    },
    {
     "data": {
      "text/html": [
       "<pre style=\"white-space:pre;overflow-x:auto;line-height:normal;font-family:Menlo,'DejaVu Sans Mono',consolas,'Courier New',monospace\">Total filtered out: <span style=\"color: #008080; text-decoration-color: #008080; font-weight: bold\">10</span> out of <span style=\"color: #008080; text-decoration-color: #008080; font-weight: bold\">14059</span>\n",
       "</pre>\n"
      ],
      "text/plain": [
       "Total filtered out: \u001b[1;36m10\u001b[0m out of \u001b[1;36m14059\u001b[0m\n"
      ]
     },
     "metadata": {},
     "output_type": "display_data"
    }
   ],
   "source": [
    "count = 0\n",
    "for data_point in valid_dataset:\n",
    "    lang = data_point[\"detected_lang\"]\n",
    "    confidence = data_point[\"detection_confidence\"]\n",
    "    if lang != \"en\":\n",
    "        print(f\"[red]Filtered out ({lang}, {confidence:.2f})[/red]\")\n",
    "        print(data_point[\"text\"][:200])\n",
    "        count += 1\n",
    "print(f\"Total filtered out: {count} out of {len(valid_dataset)}\")\n"
   ]
  }
 ],
 "metadata": {
  "kernelspec": {
   "display_name": "cs336-data",
   "language": "python",
   "name": "python3"
  },
  "language_info": {
   "codemirror_mode": {
    "name": "ipython",
    "version": 3
   },
   "file_extension": ".py",
   "mimetype": "text/x-python",
   "name": "python",
   "nbconvert_exporter": "python",
   "pygments_lexer": "ipython3",
   "version": "3.13.7"
  }
 },
 "nbformat": 4,
 "nbformat_minor": 5
}
